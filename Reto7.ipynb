{
 "cells": [
  {
   "cell_type": "markdown",
   "metadata": {},
   "source": [
    "# IELE_4014 - Reto 7\n",
    "**Felipe Velásquez Montoya - 201632422**"
   ]
  },
  {
   "cell_type": "code",
   "execution_count": 18,
   "metadata": {},
   "outputs": [],
   "source": [
    "import numpy as np\n",
    "from sklearn.model_selection import train_test_split\n",
    "from sklearn.model_selection import KFold\n",
    "from sklearn.svm import NuSVC\n",
    "import math\n",
    "import matplotlib.pyplot as plt"
   ]
  },
  {
   "cell_type": "code",
   "execution_count": 3,
   "metadata": {},
   "outputs": [
    {
     "name": "stdout",
     "output_type": "stream",
     "text": [
      "Filas de la matriz: 8330\n",
      "Columnas de la matriz: 31\n",
      "X shape(8330, 30)\n",
      "y shape(8330,)\n",
      "[[ -4.174      127.973        4.         ... 349.58325182 355.31067426\n",
      "  198.9333998 ]\n",
      " [-12.862       85.894        4.         ... 274.3172172  224.64710844\n",
      "  236.9954727 ]\n",
      " [ -8.401      120.004        4.         ... 219.26762648 180.16479996\n",
      "  522.74218959]\n",
      " ...\n",
      " [-13.592       82.406        5.         ... 338.17229285 256.55437796\n",
      "  573.50193719]\n",
      " [-10.372      118.775        4.         ... 370.62651829 402.26244942\n",
      "  382.20580041]\n",
      " [ -3.487      157.053        4.         ... 507.66199686 638.06818386\n",
      "  459.10670922]]\n",
      "[0 1 1 ... 1 1 0]\n"
     ]
    }
   ],
   "source": [
    "data_matrix = np.loadtxt(open(\"./msd_genre_dataset/fixed_ds.csv\", \"r\"), delimiter=\",\", skiprows=0)\n",
    "\n",
    "\n",
    "\n",
    "print(\"Filas de la matriz: \" + str(len(data_matrix)))\n",
    "print(\"Columnas de la matriz: \" + str(len(data_matrix[0])))\n",
    "\n",
    "\n",
    "#Los datos del set de datos están agrupados por género. Es decir, primero están todas las filas que corresponden\n",
    "#a 1 y después todas las que corresponden a -1. Se hace un shuffle para que, más tarde,\n",
    "#no se creen unos modelos que predigan únicamente una clase.\n",
    "np.random.shuffle(data_matrix)\n",
    "\n",
    "\n",
    "y = data_matrix[:,len(data_matrix[0])-1]\n",
    "X = np.delete(data_matrix, len(data_matrix[0])-1,1)\n",
    "\n",
    "y = y.astype(int)\n",
    "\n",
    "\n",
    "print(\"X shape\" + str(X.shape))\n",
    "print(\"y shape\" + str(y.shape))\n",
    "print(X)\n",
    "print(y)"
   ]
  },
  {
   "cell_type": "markdown",
   "metadata": {},
   "source": [
    "Se decidió dedicar el 20% de los datos al conjunto de prueba y el 80% al conjunto de entrenamiento, en este segundo conjunto, se decidió implementar una técnica de validación cruzada para la selección de los modelos. Para el conjunto de validación a utilizarse en esta heurística, decidió usarse el 10% de los datos de entrenamiento. La elección de los conjuntos se hace al azar utilizando el método train_test_split de sklearn. Aunque no es posible garantizar que los conjuntos tengan la misma distribución de clases, dada la naturaleza aleatoria del método train_test_split, se espera que estas sean semejantes.\n"
   ]
  },
  {
   "cell_type": "code",
   "execution_count": 4,
   "metadata": {},
   "outputs": [
    {
     "name": "stdout",
     "output_type": "stream",
     "text": [
      "Training set size: 6664\n",
      "Test set size: 1666\n"
     ]
    }
   ],
   "source": [
    "percentage_test = 0.2\n",
    "\n",
    "X_train, X_test, y_train, y_test = train_test_split(X, y, test_size = percentage_test) \n",
    "\n",
    "print(\"Training set size: %s\" % len(X_train))\n",
    "print(\"Test set size: %s\" % len(X_test))"
   ]
  },
  {
   "cell_type": "markdown",
   "metadata": {},
   "source": [
    "Escoger el Kernel."
   ]
  },
  {
   "cell_type": "code",
   "execution_count": 16,
   "metadata": {},
   "outputs": [
    {
     "name": "stdout",
     "output_type": "stream",
     "text": [
      "Kernel: rbf\n",
      "    FOLD 1 error: 0.4587706146926537\n",
      "    FOLD 2 error: 0.4707646176911544\n",
      "    FOLD 3 error: 0.4497751124437781\n",
      "    FOLD 4 error: 0.46026986506746626\n",
      "    FOLD 5 error: 0.48798798798798804\n",
      "    FOLD 6 error: 0.503003003003003\n",
      "    FOLD 7 error: 0.48948948948948945\n",
      "    FOLD 8 error: 0.5015015015015015\n",
      "    FOLD 9 error: 0.48198198198198194\n",
      "    FOLD 10 error: 0.5105105105105106\n",
      "Average error probability for NuSVC with rbf kernel: 0.48140546843695275\n",
      "Kernel: linear\n",
      "    FOLD 1 error: 0.18140929535232386\n",
      "    FOLD 2 error: 0.19040479760119944\n",
      "    FOLD 3 error: 0.1784107946026986\n",
      "    FOLD 4 error: 0.17991004497751129\n",
      "    FOLD 5 error: 0.19819819819819817\n",
      "    FOLD 6 error: 0.18918918918918914\n",
      "    FOLD 7 error: 0.22672672672672678\n",
      "    FOLD 8 error: 0.1501501501501501\n",
      "    FOLD 9 error: 0.19819819819819817\n",
      "    FOLD 10 error: 0.1711711711711712\n",
      "Average error probability for NuSVC with linear kernel: 0.18637685661673675\n",
      "Kernel: sigmoid\n",
      "    FOLD 1 error: 0.4587706146926537\n",
      "    FOLD 2 error: 0.4707646176911544\n",
      "    FOLD 3 error: 0.4497751124437781\n",
      "    FOLD 4 error: 0.46026986506746626\n",
      "    FOLD 5 error: 0.48798798798798804\n",
      "    FOLD 6 error: 0.503003003003003\n",
      "    FOLD 7 error: 0.48948948948948945\n",
      "    FOLD 8 error: 0.5015015015015015\n",
      "    FOLD 9 error: 0.48198198198198194\n",
      "    FOLD 10 error: 0.5105105105105106\n",
      "Average error probability for NuSVC with sigmoid kernel: 0.48140546843695275\n",
      "Kernel: poly\n"
     ]
    },
    {
     "name": "stderr",
     "output_type": "stream",
     "text": [
      "/home/felipe/anaconda3/lib/python3.7/site-packages/sklearn/svm/base.py:244: ConvergenceWarning: Solver terminated early (max_iter=1000000).  Consider pre-processing your data with StandardScaler or MinMaxScaler.\n",
      "  % self.max_iter, ConvergenceWarning)\n"
     ]
    },
    {
     "name": "stdout",
     "output_type": "stream",
     "text": [
      "    FOLD 1 error: 0.21739130434782605\n"
     ]
    },
    {
     "name": "stderr",
     "output_type": "stream",
     "text": [
      "/home/felipe/anaconda3/lib/python3.7/site-packages/sklearn/svm/base.py:244: ConvergenceWarning: Solver terminated early (max_iter=1000000).  Consider pre-processing your data with StandardScaler or MinMaxScaler.\n",
      "  % self.max_iter, ConvergenceWarning)\n"
     ]
    },
    {
     "name": "stdout",
     "output_type": "stream",
     "text": [
      "    FOLD 2 error: 0.22488755622188905\n"
     ]
    },
    {
     "name": "stderr",
     "output_type": "stream",
     "text": [
      "/home/felipe/anaconda3/lib/python3.7/site-packages/sklearn/svm/base.py:244: ConvergenceWarning: Solver terminated early (max_iter=1000000).  Consider pre-processing your data with StandardScaler or MinMaxScaler.\n",
      "  % self.max_iter, ConvergenceWarning)\n"
     ]
    },
    {
     "name": "stdout",
     "output_type": "stream",
     "text": [
      "    FOLD 3 error: 0.1859070464767616\n"
     ]
    },
    {
     "name": "stderr",
     "output_type": "stream",
     "text": [
      "/home/felipe/anaconda3/lib/python3.7/site-packages/sklearn/svm/base.py:244: ConvergenceWarning: Solver terminated early (max_iter=1000000).  Consider pre-processing your data with StandardScaler or MinMaxScaler.\n",
      "  % self.max_iter, ConvergenceWarning)\n"
     ]
    },
    {
     "name": "stdout",
     "output_type": "stream",
     "text": [
      "    FOLD 4 error: 0.19490254872563717\n"
     ]
    },
    {
     "name": "stderr",
     "output_type": "stream",
     "text": [
      "/home/felipe/anaconda3/lib/python3.7/site-packages/sklearn/svm/base.py:244: ConvergenceWarning: Solver terminated early (max_iter=1000000).  Consider pre-processing your data with StandardScaler or MinMaxScaler.\n",
      "  % self.max_iter, ConvergenceWarning)\n"
     ]
    },
    {
     "name": "stdout",
     "output_type": "stream",
     "text": [
      "    FOLD 5 error: 0.22372372372372373\n"
     ]
    },
    {
     "name": "stderr",
     "output_type": "stream",
     "text": [
      "/home/felipe/anaconda3/lib/python3.7/site-packages/sklearn/svm/base.py:244: ConvergenceWarning: Solver terminated early (max_iter=1000000).  Consider pre-processing your data with StandardScaler or MinMaxScaler.\n",
      "  % self.max_iter, ConvergenceWarning)\n"
     ]
    },
    {
     "name": "stdout",
     "output_type": "stream",
     "text": [
      "    FOLD 6 error: 0.20870870870870872\n"
     ]
    },
    {
     "name": "stderr",
     "output_type": "stream",
     "text": [
      "/home/felipe/anaconda3/lib/python3.7/site-packages/sklearn/svm/base.py:244: ConvergenceWarning: Solver terminated early (max_iter=1000000).  Consider pre-processing your data with StandardScaler or MinMaxScaler.\n",
      "  % self.max_iter, ConvergenceWarning)\n"
     ]
    },
    {
     "name": "stdout",
     "output_type": "stream",
     "text": [
      "    FOLD 7 error: 0.2702702702702703\n"
     ]
    },
    {
     "name": "stderr",
     "output_type": "stream",
     "text": [
      "/home/felipe/anaconda3/lib/python3.7/site-packages/sklearn/svm/base.py:244: ConvergenceWarning: Solver terminated early (max_iter=1000000).  Consider pre-processing your data with StandardScaler or MinMaxScaler.\n",
      "  % self.max_iter, ConvergenceWarning)\n"
     ]
    },
    {
     "name": "stdout",
     "output_type": "stream",
     "text": [
      "    FOLD 8 error: 0.19069069069069067\n"
     ]
    },
    {
     "name": "stderr",
     "output_type": "stream",
     "text": [
      "/home/felipe/anaconda3/lib/python3.7/site-packages/sklearn/svm/base.py:244: ConvergenceWarning: Solver terminated early (max_iter=1000000).  Consider pre-processing your data with StandardScaler or MinMaxScaler.\n",
      "  % self.max_iter, ConvergenceWarning)\n"
     ]
    },
    {
     "name": "stdout",
     "output_type": "stream",
     "text": [
      "    FOLD 9 error: 0.20570570570570568\n",
      "    FOLD 10 error: 0.21171171171171166\n",
      "Average error probability for NuSVC with poly kernel: 0.21338992665829237\n",
      "Lowest error probability: 0.18637685661673675 for model with linear kernel\n"
     ]
    },
    {
     "name": "stderr",
     "output_type": "stream",
     "text": [
      "/home/felipe/anaconda3/lib/python3.7/site-packages/sklearn/svm/base.py:244: ConvergenceWarning: Solver terminated early (max_iter=1000000).  Consider pre-processing your data with StandardScaler or MinMaxScaler.\n",
      "  % self.max_iter, ConvergenceWarning)\n"
     ]
    }
   ],
   "source": [
    "percentage_validation = 0.1\n",
    "\n",
    "kf = KFold(n_splits=math.floor(1/percentage_validation))\n",
    "\n",
    "kernels =  [\"rbf\", \"linear\", \"sigmoid\", \"poly\"] \n",
    "scores = []\n",
    "best_score = 1\n",
    "best_kernel = \"\"\n",
    "\n",
    "for kernel in kernels:\n",
    "\n",
    "    i = 0\n",
    "    score = 0\n",
    "    print(\"Kernel: %s\" %kernel)\n",
    "    #Validación cruzada del SVM\n",
    "    for train_index, test_index in kf.split(X_train):\n",
    "        X_train_cv, X_validate = X_train[train_index], X_train[test_index]\n",
    "        y_train_cv, y_validate = y_train[train_index], y_train[test_index]\n",
    "        \n",
    "        if kernel == \"poly\": \n",
    "            nusvc = NuSVC(kernel = kernel, gamma = \"auto\", max_iter = 1000000)\n",
    "        else:\n",
    "            nusvc = NuSVC(kernel = kernel, gamma = \"auto\")\n",
    "            \n",
    "        nusvc.fit(X_train_cv,y_train_cv)\n",
    "    \n",
    "        fold_score = nusvc.score(X_validate, y_validate)\n",
    "        score += fold_score\n",
    "        i+=1\n",
    "        print(\"    FOLD %s error: %s\" % (i, 1 - fold_score))\n",
    "    \n",
    "    score = 1- (score/i)\n",
    "    scores.append(score)\n",
    "    \n",
    "    if score < best_score:\n",
    "        best_score = score\n",
    "        best_kernel = kernel\n",
    "    \n",
    "    print(\"Average error probability for NuSVC with %s kernel: %s\" % (kernel, score))\n",
    "\n",
    "print(\"Lowest error probability: %s for model with %s kernel\" % (best_score, best_kernel))"
   ]
  },
  {
   "cell_type": "markdown",
   "metadata": {},
   "source": [
    "Graficar errores"
   ]
  },
  {
   "cell_type": "code",
   "execution_count": 19,
   "metadata": {},
   "outputs": [
    {
     "data": {
      "image/png": "[encoded data removed]",
      "text/plain": [
       "<Figure size 432x288 with 1 Axes>"
      ]
     },
     "metadata": {
      "needs_background": "light"
     },
     "output_type": "display_data"
    }
   ],
   "source": [
    "plt.bar(kernels, scores)\n",
    "plt.xlabel('Kernel')\n",
    "plt.ylabel('Probabilidad de error ')\n",
    "plt.title('Probabilidad de error promedio según el Kernel')\n",
    "plt.show()"
   ]
  },
  {
   "cell_type": "markdown",
   "metadata": {},
   "source": [
    "Linear y Poly muy parecidos, sin embargo Poly está alcanzando su límite de iteraciones, intentar StandardScaler, MinMaxScaler y RobustScaler con cada uno de estos métodos, ver cómo cambia el desempeño y si así Poly acaba antes de max_iters"
   ]
  },
  {
   "cell_type": "markdown",
   "metadata": {},
   "source": [
    "Primero con MinMaxScaler"
   ]
  },
  {
   "cell_type": "code",
   "execution_count": 20,
   "metadata": {},
   "outputs": [
    {
     "name": "stdout",
     "output_type": "stream",
     "text": [
      "Kernel: linear\n",
      "    FOLD 1 error: 0.15892053973013498\n",
      "    FOLD 2 error: 0.16941529235382313\n",
      "    FOLD 3 error: 0.16791604197901044\n",
      "    FOLD 4 error: 0.17691154422788602\n",
      "    FOLD 5 error: 0.18018018018018023\n",
      "    FOLD 6 error: 0.17567567567567566\n",
      "    FOLD 7 error: 0.1921921921921922\n",
      "    FOLD 8 error: 0.1636636636636637\n",
      "    FOLD 9 error: 0.20420420420420415\n",
      "    FOLD 10 error: 0.16216216216216217\n",
      "Average error probability for NuSVC with linear kernel: 0.17512414963689316\n",
      "Kernel: poly\n",
      "    FOLD 1 error: 0.1649175412293853\n",
      "    FOLD 2 error: 0.17541229385307344\n",
      "    FOLD 3 error: 0.16941529235382313\n",
      "    FOLD 4 error: 0.18890554722638686\n",
      "    FOLD 5 error: 0.17267267267267272\n",
      "    FOLD 6 error: 0.17417417417417413\n",
      "    FOLD 7 error: 0.1921921921921922\n",
      "    FOLD 8 error: 0.16966966966966968\n",
      "    FOLD 9 error: 0.19819819819819817\n",
      "    FOLD 10 error: 0.1711711711711712\n",
      "Average error probability for NuSVC with poly kernel: 0.17767287527407483\n",
      "Lowest error probability: 0.17512414963689316 for model with linear kernel\n"
     ]
    }
   ],
   "source": [
    "from sklearn.preprocessing import MinMaxScaler\n",
    "\n",
    "scaler = MinMaxScaler().fit(X)\n",
    "X_train_scaled = scaler.transform(X_train)\n",
    "\n",
    "percentage_validation = 0.1\n",
    "kf = KFold(n_splits=math.floor(1/percentage_validation))\n",
    "\n",
    "kernels =  [\"linear\", \"poly\"] \n",
    "scores = []\n",
    "best_score = 1\n",
    "best_kernel = \"\"\n",
    "\n",
    "for kernel in kernels:\n",
    "\n",
    "    i = 0\n",
    "    score = 0\n",
    "    print(\"Kernel: %s\" %kernel)\n",
    "    #Validación cruzada del SVM\n",
    "    for train_index, test_index in kf.split(X_train_scaled):\n",
    "        X_train_cv, X_validate = X_train_scaled[train_index], X_train_scaled[test_index]\n",
    "        y_train_cv, y_validate = y_train[train_index], y_train[test_index]\n",
    "        \n",
    "        if kernel == \"poly\": \n",
    "            nusvc = NuSVC(kernel = kernel, gamma = \"auto\", max_iter = 1000000)\n",
    "        else:\n",
    "            nusvc = NuSVC(kernel = kernel, gamma = \"auto\")\n",
    "            \n",
    "        nusvc.fit(X_train_cv,y_train_cv)\n",
    "    \n",
    "        fold_score = nusvc.score(X_validate, y_validate)\n",
    "        score += fold_score\n",
    "        i+=1\n",
    "        print(\"    FOLD %s error: %s\" % (i, 1 - fold_score))\n",
    "    \n",
    "    score = 1- (score/i)\n",
    "    scores.append(score)\n",
    "    \n",
    "    if score < best_score:\n",
    "        best_score = score\n",
    "        best_kernel = kernel\n",
    "    \n",
    "    print(\"Average error probability for NuSVC with %s kernel: %s\" % (kernel, score))\n",
    "\n",
    "print(\"Lowest error probability: %s for model with %s kernel\" % (best_score, best_kernel))"
   ]
  },
  {
   "cell_type": "code",
   "execution_count": 21,
   "metadata": {},
   "outputs": [
    {
     "name": "stdout",
     "output_type": "stream",
     "text": [
      "Kernel: linear\n",
      "    FOLD 1 error: 0.16191904047976013\n",
      "    FOLD 2 error: 0.16791604197901044\n",
      "    FOLD 3 error: 0.16641679160419787\n",
      "    FOLD 4 error: 0.16791604197901044\n",
      "    FOLD 5 error: 0.16816816816816815\n",
      "    FOLD 6 error: 0.17417417417417413\n",
      "    FOLD 7 error: 0.19669669669669665\n",
      "    FOLD 8 error: 0.15915915915915912\n",
      "    FOLD 9 error: 0.19669669669669665\n",
      "    FOLD 10 error: 0.16516516516516522\n",
      "Average error probability for NuSVC with linear kernel: 0.17242279761020407\n",
      "Kernel: poly\n",
      "    FOLD 1 error: 0.13343328335832083\n",
      "    FOLD 2 error: 0.15292353823088456\n",
      "    FOLD 3 error: 0.16041979010494756\n",
      "    FOLD 4 error: 0.15892053973013498\n",
      "    FOLD 5 error: 0.15915915915915912\n",
      "    FOLD 6 error: 0.15315315315315314\n",
      "    FOLD 7 error: 0.1576576576576577\n",
      "    FOLD 8 error: 0.12462462462462465\n",
      "    FOLD 9 error: 0.18468468468468469\n",
      "    FOLD 10 error: 0.1426426426426426\n",
      "Average error probability for NuSVC with poly kernel: 0.15276190733462092\n",
      "Lowest error probability: 0.15276190733462092 for model with poly kernel\n"
     ]
    }
   ],
   "source": [
    "from sklearn.preprocessing import StandardScaler\n",
    "\n",
    "scaler = StandardScaler().fit(X)\n",
    "X_train_scaled = scaler.transform(X_train)\n",
    "\n",
    "percentage_validation = 0.1\n",
    "kf = KFold(n_splits=math.floor(1/percentage_validation))\n",
    "\n",
    "kernels =  [\"linear\", \"poly\"] \n",
    "scores = []\n",
    "best_score = 1\n",
    "best_kernel = \"\"\n",
    "\n",
    "for kernel in kernels:\n",
    "\n",
    "    i = 0\n",
    "    score = 0\n",
    "    print(\"Kernel: %s\" %kernel)\n",
    "    #Validación cruzada del SVM\n",
    "    for train_index, test_index in kf.split(X_train_scaled):\n",
    "        X_train_cv, X_validate = X_train_scaled[train_index], X_train_scaled[test_index]\n",
    "        y_train_cv, y_validate = y_train[train_index], y_train[test_index]\n",
    "        \n",
    "        if kernel == \"poly\": \n",
    "            nusvc = NuSVC(kernel = kernel, gamma = \"auto\", max_iter = 1000000)\n",
    "        else:\n",
    "            nusvc = NuSVC(kernel = kernel, gamma = \"auto\")\n",
    "            \n",
    "        nusvc.fit(X_train_cv,y_train_cv)\n",
    "    \n",
    "        fold_score = nusvc.score(X_validate, y_validate)\n",
    "        score += fold_score\n",
    "        i+=1\n",
    "        print(\"    FOLD %s error: %s\" % (i, 1 - fold_score))\n",
    "    \n",
    "    score = 1- (score/i)\n",
    "    scores.append(score)\n",
    "    \n",
    "    if score < best_score:\n",
    "        best_score = score\n",
    "        best_kernel = kernel\n",
    "    \n",
    "    print(\"Average error probability for NuSVC with %s kernel: %s\" % (kernel, score))\n",
    "\n",
    "print(\"Lowest error probability: %s for model with %s kernel\" % (best_score, best_kernel))"
   ]
  },
  {
   "cell_type": "code",
   "execution_count": 22,
   "metadata": {},
   "outputs": [
    {
     "name": "stdout",
     "output_type": "stream",
     "text": [
      "Kernel: linear\n",
      "    FOLD 1 error: 0.15442278860569714\n",
      "    FOLD 2 error: 0.16941529235382313\n",
      "    FOLD 3 error: 0.1709145427286357\n",
      "    FOLD 4 error: 0.16641679160419787\n",
      "    FOLD 5 error: 0.17567567567567566\n",
      "    FOLD 6 error: 0.1786786786786787\n",
      "    FOLD 7 error: 0.1921921921921922\n",
      "    FOLD 8 error: 0.1576576576576577\n",
      "    FOLD 9 error: 0.19819819819819817\n",
      "    FOLD 10 error: 0.16666666666666663\n",
      "Average error probability for NuSVC with linear kernel: 0.17302384843614216\n",
      "Kernel: poly\n",
      "    FOLD 1 error: 0.1349325337331334\n",
      "    FOLD 2 error: 0.1499250374812594\n",
      "    FOLD 3 error: 0.17391304347826086\n",
      "    FOLD 4 error: 0.15892053973013498\n",
      "    FOLD 5 error: 0.18018018018018023\n",
      "    FOLD 6 error: 0.15315315315315314\n",
      "    FOLD 7 error: 0.1711711711711712\n",
      "    FOLD 8 error: 0.12312312312312312\n",
      "    FOLD 9 error: 0.19069069069069067\n",
      "    FOLD 10 error: 0.14864864864864868\n",
      "Average error probability for NuSVC with poly kernel: 0.15846581213897548\n",
      "Lowest error probability: 0.15846581213897548 for model with poly kernel\n"
     ]
    }
   ],
   "source": [
    "from sklearn.preprocessing import RobustScaler\n",
    "\n",
    "scaler = RobustScaler().fit(X)\n",
    "X_train_scaled = scaler.transform(X_train)\n",
    "\n",
    "percentage_validation = 0.1\n",
    "kf = KFold(n_splits=math.floor(1/percentage_validation))\n",
    "\n",
    "kernels =  [\"linear\", \"poly\"] \n",
    "scores = []\n",
    "best_score = 1\n",
    "best_kernel = \"\"\n",
    "\n",
    "for kernel in kernels:\n",
    "\n",
    "    i = 0\n",
    "    score = 0\n",
    "    print(\"Kernel: %s\" %kernel)\n",
    "    #Validación cruzada del SVM\n",
    "    for train_index, test_index in kf.split(X_train_scaled):\n",
    "        X_train_cv, X_validate = X_train_scaled[train_index], X_train_scaled[test_index]\n",
    "        y_train_cv, y_validate = y_train[train_index], y_train[test_index]\n",
    "        \n",
    "        if kernel == \"poly\": \n",
    "            nusvc = NuSVC(kernel = kernel, gamma = \"auto\", max_iter = 1000000)\n",
    "        else:\n",
    "            nusvc = NuSVC(kernel = kernel, gamma = \"auto\")\n",
    "            \n",
    "        nusvc.fit(X_train_cv,y_train_cv)\n",
    "    \n",
    "        fold_score = nusvc.score(X_validate, y_validate)\n",
    "        score += fold_score\n",
    "        i+=1\n",
    "        print(\"    FOLD %s error: %s\" % (i, 1 - fold_score))\n",
    "    \n",
    "    score = 1- (score/i)\n",
    "    scores.append(score)\n",
    "    \n",
    "    if score < best_score:\n",
    "        best_score = score\n",
    "        best_kernel = kernel\n",
    "    \n",
    "    print(\"Average error probability for NuSVC with %s kernel: %s\" % (kernel, score))\n",
    "\n",
    "print(\"Lowest error probability: %s for model with %s kernel\" % (best_score, best_kernel))"
   ]
  },
  {
   "cell_type": "markdown",
   "metadata": {},
   "source": [
    "Como puede observarse, al introducir estandarizaciones de los datos, el Kernel polinómico aumenta su desempeño en gran medida. Con las estandarizaciones RobustScaler y StandardScaler supera al Kernel lineal, siendo su mejor desempeño con este segundo."
   ]
  },
  {
   "cell_type": "markdown",
   "metadata": {},
   "source": [
    "Se escala X_train con StandardScaler."
   ]
  },
  {
   "cell_type": "code",
   "execution_count": 28,
   "metadata": {},
   "outputs": [],
   "source": [
    "scaler = StandardScaler().fit(X)\n",
    "X_train = scaler.transform(X_train)"
   ]
  },
  {
   "cell_type": "markdown",
   "metadata": {},
   "source": [
    "Grado del polinomio"
   ]
  },
  {
   "cell_type": "code",
   "execution_count": 32,
   "metadata": {},
   "outputs": [
    {
     "name": "stdout",
     "output_type": "stream",
     "text": [
      "Degrees: 1\n",
      "    FOLD 1 error: 0.16191904047976013\n",
      "    FOLD 2 error: 0.16791604197901044\n",
      "    FOLD 3 error: 0.16641679160419787\n",
      "    FOLD 4 error: 0.16791604197901044\n",
      "    FOLD 5 error: 0.16816816816816815\n",
      "    FOLD 6 error: 0.17417417417417413\n",
      "    FOLD 7 error: 0.19669669669669665\n",
      "    FOLD 8 error: 0.15915915915915912\n",
      "    FOLD 9 error: 0.19669669669669665\n",
      "    FOLD 10 error: 0.16516516516516522\n",
      "Average error probability for NuSVC with polynomial kernel of 1 degrees: 0.17242279761020407\n",
      "Degrees: 2\n",
      "    FOLD 1 error: 0.19640179910044975\n",
      "    FOLD 2 error: 0.2068965517241379\n",
      "    FOLD 3 error: 0.22638680659670163\n",
      "    FOLD 4 error: 0.21589205397301348\n",
      "    FOLD 5 error: 0.26126126126126126\n",
      "    FOLD 6 error: 0.2207207207207207\n",
      "    FOLD 7 error: 0.22672672672672678\n",
      "    FOLD 8 error: 0.22372372372372373\n",
      "    FOLD 9 error: 0.2147147147147147\n",
      "    FOLD 10 error: 0.21771771771771775\n",
      "Average error probability for NuSVC with polynomial kernel of 2 degrees: 0.2210442076259167\n",
      "Degrees: 3\n",
      "    FOLD 1 error: 0.13343328335832083\n",
      "    FOLD 2 error: 0.15292353823088456\n",
      "    FOLD 3 error: 0.16041979010494756\n",
      "    FOLD 4 error: 0.15892053973013498\n",
      "    FOLD 5 error: 0.15915915915915912\n",
      "    FOLD 6 error: 0.15315315315315314\n",
      "    FOLD 7 error: 0.1576576576576577\n",
      "    FOLD 8 error: 0.12462462462462465\n",
      "    FOLD 9 error: 0.18468468468468469\n",
      "    FOLD 10 error: 0.1426426426426426\n",
      "Average error probability for NuSVC with polynomial kernel of 3 degrees: 0.15276190733462092\n",
      "Degrees: 4\n",
      "    FOLD 1 error: 0.20989505247376317\n",
      "    FOLD 2 error: 0.20539730134932532\n",
      "    FOLD 3 error: 0.22638680659670163\n",
      "    FOLD 4 error: 0.199400299850075\n",
      "    FOLD 5 error: 0.2417417417417418\n",
      "    FOLD 6 error: 0.2207207207207207\n",
      "    FOLD 7 error: 0.22672672672672678\n",
      "    FOLD 8 error: 0.2147147147147147\n",
      "    FOLD 9 error: 0.23273273273273276\n",
      "    FOLD 10 error: 0.1996996996996997\n",
      "Average error probability for NuSVC with polynomial kernel of 4 degrees: 0.21774157966062024\n",
      "Degrees: 5\n",
      "    FOLD 1 error: 0.15142428785607198\n",
      "    FOLD 2 error: 0.1574212893553223\n",
      "    FOLD 3 error: 0.18140929535232386\n",
      "    FOLD 4 error: 0.18140929535232386\n",
      "    FOLD 5 error: 0.18318318318318316\n",
      "    FOLD 6 error: 0.17267267267267272\n",
      "    FOLD 7 error: 0.18918918918918914\n",
      "    FOLD 8 error: 0.14414414414414412\n",
      "    FOLD 9 error: 0.18918918918918914\n",
      "    FOLD 10 error: 0.15315315315315314\n",
      "Average error probability for NuSVC with polynomial kernel of 5 degrees: 0.1703195699447575\n",
      "Degrees: 6\n",
      "    FOLD 1 error: 0.26086956521739135\n",
      "    FOLD 2 error: 0.2773613193403298\n",
      "    FOLD 3 error: 0.28935532233883055\n",
      "    FOLD 4 error: 0.26236881559220393\n",
      "    FOLD 5 error: 0.2777777777777778\n",
      "    FOLD 6 error: 0.2927927927927928\n",
      "    FOLD 7 error: 0.28228228228228225\n",
      "    FOLD 8 error: 0.2507507507507507\n",
      "    FOLD 9 error: 0.30180180180180183\n",
      "    FOLD 10 error: 0.2702702702702703\n",
      "Average error probability for NuSVC with polynomial kernel of 6 degrees: 0.2765630698164431\n",
      "Degrees: 7\n",
      "    FOLD 1 error: 0.21739130434782605\n",
      "    FOLD 2 error: 0.23388305847076463\n",
      "    FOLD 3 error: 0.26236881559220393\n",
      "    FOLD 4 error: 0.2278860569715142\n",
      "    FOLD 5 error: 0.22972972972972971\n",
      "    FOLD 6 error: 0.24624624624624625\n",
      "    FOLD 7 error: 0.25225225225225223\n",
      "    FOLD 8 error: 0.20870870870870872\n",
      "    FOLD 9 error: 0.2702702702702703\n",
      "    FOLD 10 error: 0.21771771771771775\n",
      "Average error probability for NuSVC with polynomial kernel of 7 degrees: 0.23664541603072342\n",
      "Degrees: 8\n",
      "    FOLD 1 error: 0.31034482758620685\n",
      "    FOLD 2 error: 0.33133433283358316\n",
      "    FOLD 3 error: 0.32533733133433285\n",
      "    FOLD 4 error: 0.33133433283358316\n",
      "    FOLD 5 error: 0.3063063063063063\n",
      "    FOLD 6 error: 0.3288288288288288\n",
      "    FOLD 7 error: 0.31081081081081086\n",
      "    FOLD 8 error: 0.3153153153153153\n",
      "    FOLD 9 error: 0.33933933933933935\n",
      "    FOLD 10 error: 0.30930930930930933\n",
      "Average error probability for NuSVC with polynomial kernel of 8 degrees: 0.32082607344976155\n",
      "Degrees: 9\n",
      "    FOLD 1 error: 0.28785607196401797\n",
      "    FOLD 2 error: 0.2938530734632684\n",
      "    FOLD 3 error: 0.32533733133433285\n",
      "    FOLD 4 error: 0.29685157421289354\n",
      "    FOLD 5 error: 0.2627627627627628\n",
      "    FOLD 6 error: 0.2912912912912913\n",
      "    FOLD 7 error: 0.2807807807807807\n",
      "    FOLD 8 error: 0.2702702702702703\n",
      "    FOLD 9 error: 0.3198198198198198\n",
      "    FOLD 10 error: 0.2627627627627628\n",
      "Average error probability for NuSVC with polynomial kernel of 9 degrees: 0.28915857386622\n",
      "Degrees: 10\n",
      "    FOLD 1 error: 0.35982008995502246\n",
      "    FOLD 2 error: 0.34782608695652173\n",
      "    FOLD 3 error: 0.36131934032983504\n",
      "    FOLD 4 error: 0.3793103448275862\n",
      "    FOLD 5 error: 0.33333333333333337\n",
      "    FOLD 6 error: 0.35435435435435436\n",
      "    FOLD 7 error: 0.33783783783783783\n",
      "    FOLD 8 error: 0.3363363363363363\n",
      "    FOLD 9 error: 0.3708708708708709\n",
      "    FOLD 10 error: 0.3363363363363363\n",
      "Average error probability for NuSVC with polynomial kernel of 10 degrees: 0.35173449311380334\n",
      "Degrees: 11\n",
      "    FOLD 1 error: 0.3298350824587706\n",
      "    FOLD 2 error: 0.320839580209895\n",
      "    FOLD 3 error: 0.3553223388305847\n",
      "    FOLD 4 error: 0.3568215892053973\n",
      "    FOLD 5 error: 0.3063063063063063\n",
      "    FOLD 6 error: 0.3288288288288288\n",
      "    FOLD 7 error: 0.3303303303303303\n",
      "    FOLD 8 error: 0.31231231231231227\n",
      "    FOLD 9 error: 0.34684684684684686\n",
      "    FOLD 10 error: 0.2987987987987988\n",
      "Average error probability for NuSVC with polynomial kernel of 11 degrees: 0.3286242014128071\n",
      "Degrees: 12\n",
      "    FOLD 1 error: 0.37631184407796103\n",
      "    FOLD 2 error: 0.37481259370314846\n",
      "    FOLD 3 error: 0.3853073463268366\n",
      "    FOLD 4 error: 0.4002998500749625\n",
      "    FOLD 5 error: 0.3588588588588588\n",
      "    FOLD 6 error: 0.3843843843843844\n",
      "    FOLD 7 error: 0.3558558558558559\n",
      "    FOLD 8 error: 0.3573573573573574\n",
      "    FOLD 9 error: 0.39489489489489493\n",
      "    FOLD 10 error: 0.35285285285285284\n",
      "Average error probability for NuSVC with polynomial kernel of 12 degrees: 0.37409358383871116\n",
      "Degrees: 13\n",
      "    FOLD 1 error: 0.3628185907046477\n",
      "    FOLD 2 error: 0.34782608695652173\n",
      "    FOLD 3 error: 0.3718140929535232\n",
      "    FOLD 4 error: 0.38380809595202403\n",
      "    FOLD 5 error: 0.33933933933933935\n",
      "    FOLD 6 error: 0.3573573573573574\n",
      "    FOLD 7 error: 0.35435435435435436\n",
      "    FOLD 8 error: 0.3288288288288288\n",
      "    FOLD 9 error: 0.3648648648648649\n",
      "    FOLD 10 error: 0.31831831831831836\n",
      "Average error probability for NuSVC with polynomial kernel of 13 degrees: 0.35293299296297787\n",
      "Degrees: 14\n",
      "    FOLD 1 error: 0.3988005997001499\n",
      "    FOLD 2 error: 0.3943028485757122\n",
      "    FOLD 3 error: 0.40329835082458776\n",
      "    FOLD 4 error: 0.4212893553223388\n",
      "    FOLD 5 error: 0.39039039039039036\n",
      "    FOLD 6 error: 0.3933933933933934\n",
      "    FOLD 7 error: 0.37387387387387383\n",
      "    FOLD 8 error: 0.3843843843843844\n",
      "    FOLD 9 error: 0.40990990990990994\n",
      "    FOLD 10 error: 0.3573573573573574\n",
      "Average error probability for NuSVC with polynomial kernel of 14 degrees: 0.3927000463732099\n",
      "Degrees: 15\n",
      "    FOLD 1 error: 0.38980509745127434\n",
      "    FOLD 2 error: 0.3733133433283359\n",
      "    FOLD 3 error: 0.3868065967016492\n",
      "    FOLD 4 error: 0.4002998500749625\n",
      "    FOLD 5 error: 0.36936936936936937\n",
      "    FOLD 6 error: 0.37387387387387383\n",
      "    FOLD 7 error: 0.37387387387387383\n",
      "    FOLD 8 error: 0.3588588588588588\n",
      "    FOLD 9 error: 0.3858858858858859\n",
      "    FOLD 10 error: 0.3363363363363363\n",
      "Average error probability for NuSVC with polynomial kernel of 15 degrees: 0.374842308575442\n",
      "Degrees: 16\n",
      "    FOLD 1 error: 0.4077961019490255\n",
      "    FOLD 2 error: 0.41079460269865065\n",
      "    FOLD 3 error: 0.41829085457271364\n",
      "    FOLD 4 error: 0.43778110944527737\n",
      "    FOLD 5 error: 0.4084084084084084\n",
      "    FOLD 6 error: 0.40990990990990994\n",
      "    FOLD 7 error: 0.3918918918918919\n",
      "    FOLD 8 error: 0.3993993993993994\n",
      "    FOLD 9 error: 0.4264264264264265\n",
      "    FOLD 10 error: 0.3723723723723724\n",
      "Average error probability for NuSVC with polynomial kernel of 16 degrees: 0.40830710770740763\n",
      "Degrees: 17\n",
      "    FOLD 1 error: 0.40179910044977507\n",
      "    FOLD 2 error: 0.3853073463268366\n",
      "    FOLD 3 error: 0.4077961019490255\n",
      "    FOLD 4 error: 0.4152923538230885\n",
      "    FOLD 5 error: 0.3873873873873874\n",
      "    FOLD 6 error: 0.38888888888888884\n",
      "    FOLD 7 error: 0.3843843843843844\n",
      "    FOLD 8 error: 0.3768768768768769\n",
      "    FOLD 9 error: 0.3933933933933934\n",
      "    FOLD 10 error: 0.35285285285285284\n",
      "Average error probability for NuSVC with polynomial kernel of 17 degrees: 0.389397868633251\n",
      "Degrees: 18\n",
      "    FOLD 1 error: 0.42428785607196406\n"
     ]
    },
    {
     "name": "stdout",
     "output_type": "stream",
     "text": [
      "    FOLD 2 error: 0.4287856071964018\n",
      "    FOLD 3 error: 0.43928035982008995\n",
      "    FOLD 4 error: 0.4497751124437781\n",
      "    FOLD 5 error: 0.41891891891891897\n",
      "    FOLD 6 error: 0.4264264264264265\n",
      "    FOLD 7 error: 0.39639639639639634\n",
      "    FOLD 8 error: 0.41741741741741745\n",
      "    FOLD 9 error: 0.4264264264264265\n",
      "    FOLD 10 error: 0.3873873873873874\n",
      "Average error probability for NuSVC with polynomial kernel of 18 degrees: 0.42151019085052066\n",
      "Degrees: 19\n",
      "    FOLD 1 error: 0.41079460269865065\n",
      "    FOLD 2 error: 0.3988005997001499\n",
      "    FOLD 3 error: 0.42428785607196406\n",
      "    FOLD 4 error: 0.4347826086956522\n",
      "    FOLD 5 error: 0.40390390390390385\n",
      "    FOLD 6 error: 0.39489489489489493\n",
      "    FOLD 7 error: 0.3873873873873874\n",
      "    FOLD 8 error: 0.38288288288288286\n",
      "    FOLD 9 error: 0.39789789789789787\n",
      "    FOLD 10 error: 0.36786786786786785\n",
      "Average error probability for NuSVC with polynomial kernel of 19 degrees: 0.40035005020012515\n",
      "Degrees: 20\n",
      "    FOLD 1 error: 0.43328335832083953\n",
      "    FOLD 2 error: 0.43178410794602695\n",
      "    FOLD 3 error: 0.4482758620689655\n",
      "    FOLD 4 error: 0.4557721139430285\n",
      "    FOLD 5 error: 0.43093093093093093\n",
      "    FOLD 6 error: 0.43243243243243246\n",
      "    FOLD 7 error: 0.3993993993993994\n",
      "    FOLD 8 error: 0.4219219219219219\n",
      "    FOLD 9 error: 0.4279279279279279\n",
      "    FOLD 10 error: 0.3918918918918919\n",
      "Average error probability for NuSVC with polynomial kernel of 20 degrees: 0.4273619946783366\n",
      "Lowest error probability: 0.15276190733462092 for model with polynomial kernel of 3 degrees\n"
     ]
    }
   ],
   "source": [
    "percentage_validation = 0.1\n",
    "kf = KFold(n_splits=math.floor(1/percentage_validation))\n",
    "\n",
    "max_degree = 20\n",
    "scores = []\n",
    "best_score = 1\n",
    "best_degrees = -1\n",
    "\n",
    "for degree in range(1, max_degree+1):\n",
    "\n",
    "    i = 0\n",
    "    score = 0\n",
    "    print(\"Degrees: %s\" %degree)\n",
    "    #Validación cruzada del SVM\n",
    "    for train_index, test_index in kf.split(X_train):\n",
    "        X_train_cv, X_validate = X_train[train_index], X_train[test_index]\n",
    "        y_train_cv, y_validate = y_train[train_index], y_train[test_index] \n",
    "        nusvc = NuSVC(kernel = \"poly\", degree= degree,  gamma = \"auto\", max_iter = 1000000)\n",
    "        nusvc.fit(X_train_cv,y_train_cv)\n",
    "        fold_score = nusvc.score(X_validate, y_validate)\n",
    "        score += fold_score\n",
    "        i+=1\n",
    "        print(\"    FOLD %s error: %s\" % (i, 1 - fold_score))\n",
    "    \n",
    "    score = 1- (score/i)\n",
    "    scores.append(score)\n",
    "    \n",
    "    if score < best_score:\n",
    "        best_score = score\n",
    "        best_degree = degree\n",
    "    \n",
    "    print(\"Average error probability for NuSVC with polynomial kernel of %s degrees: %s\" % (degree, score))\n",
    "\n",
    "print(\"Lowest error probability: %s for model with polynomial kernel of %s degrees\" % (best_score, best_degree))"
   ]
  },
  {
   "cell_type": "markdown",
   "metadata": {},
   "source": [
    "Graficar. Menor en 3, impares les va mejor"
   ]
  },
  {
   "cell_type": "code",
   "execution_count": 38,
   "metadata": {},
   "outputs": [
    {
     "data": {
      "image/png": "[encoded data removed]",
      "text/plain": [
       "<Figure size 432x288 with 1 Axes>"
      ]
     },
     "metadata": {
      "needs_background": "light"
     },
     "output_type": "display_data"
    }
   ],
   "source": [
    "plt.plot(range(1,max_degree+1), scores, 'o')\n",
    "plt.xticks(range(1,max_degree+1))\n",
    "plt.xlabel('Número de grados del polinomio')\n",
    "plt.ylabel('Probabilidad de error promedio ')\n",
    "plt.title('Probabilidad de error promedio en función del número de grados del polinomio')\n",
    "plt.show()"
   ]
  },
  {
   "cell_type": "markdown",
   "metadata": {},
   "source": [
    "Ahora escoger nu"
   ]
  },
  {
   "cell_type": "code",
   "execution_count": 42,
   "metadata": {},
   "outputs": [
    {
     "name": "stdout",
     "output_type": "stream",
     "text": [
      "Nu: 0.1\n",
      "    FOLD 1 error: 0.14392803598200898\n",
      "    FOLD 2 error: 0.19040479760119944\n",
      "    FOLD 3 error: 0.18440779610194902\n",
      "    FOLD 4 error: 0.1709145427286357\n",
      "    FOLD 5 error: 0.19669669669669665\n",
      "    FOLD 6 error: 0.18918918918918914\n",
      "    FOLD 7 error: 0.20570570570570568\n",
      "    FOLD 8 error: 0.19819819819819817\n",
      "    FOLD 9 error: 0.1996996996996997\n",
      "    FOLD 10 error: 0.17417417417417413\n",
      "Average error probability for NuSVC with polynomial and a nu of 0.1: 0.18533188360774555\n",
      "Nu: 0.2\n",
      "    FOLD 1 error: 0.14542728635682156\n",
      "    FOLD 2 error: 0.16641679160419787\n",
      "    FOLD 3 error: 0.1709145427286357\n",
      "    FOLD 4 error: 0.15442278860569714\n",
      "    FOLD 5 error: 0.1501501501501501\n",
      "    FOLD 6 error: 0.17717717717717718\n",
      "    FOLD 7 error: 0.17567567567567566\n",
      "    FOLD 8 error: 0.16516516516516522\n",
      "    FOLD 9 error: 0.1921921921921922\n",
      "    FOLD 10 error: 0.1576576576576577\n",
      "Average error probability for NuSVC with polynomial and a nu of 0.2: 0.16551994273133697\n",
      "Nu: 0.3\n",
      "    FOLD 1 error: 0.13793103448275867\n",
      "    FOLD 2 error: 0.14392803598200898\n",
      "    FOLD 3 error: 0.15442278860569714\n",
      "    FOLD 4 error: 0.1634182908545727\n",
      "    FOLD 5 error: 0.14414414414414412\n",
      "    FOLD 6 error: 0.1636636636636637\n",
      "    FOLD 7 error: 0.16066066066066065\n",
      "    FOLD 8 error: 0.13963963963963966\n",
      "    FOLD 9 error: 0.18918918918918914\n",
      "    FOLD 10 error: 0.14864864864864868\n",
      "Average error probability for NuSVC with polynomial and a nu of 0.3: 0.1545646095870984\n",
      "Nu: 0.4\n",
      "    FOLD 1 error: 0.13193403298350825\n",
      "    FOLD 2 error: 0.1424287856071964\n",
      "    FOLD 3 error: 0.14392803598200898\n",
      "    FOLD 4 error: 0.16191904047976013\n",
      "    FOLD 5 error: 0.1576576576576577\n",
      "    FOLD 6 error: 0.14564564564564564\n",
      "    FOLD 7 error: 0.1561561561561562\n",
      "    FOLD 8 error: 0.12312312312312312\n",
      "    FOLD 9 error: 0.17717717717717718\n",
      "    FOLD 10 error: 0.14114114114114118\n",
      "Average error probability for NuSVC with polynomial and a nu of 0.4: 0.1481110795953373\n",
      "Nu: 0.5\n",
      "    FOLD 1 error: 0.13343328335832083\n",
      "    FOLD 2 error: 0.15292353823088456\n",
      "    FOLD 3 error: 0.16041979010494756\n",
      "    FOLD 4 error: 0.15892053973013498\n",
      "    FOLD 5 error: 0.15915915915915912\n",
      "    FOLD 6 error: 0.15315315315315314\n",
      "    FOLD 7 error: 0.1576576576576577\n",
      "    FOLD 8 error: 0.12462462462462465\n",
      "    FOLD 9 error: 0.18468468468468469\n",
      "    FOLD 10 error: 0.1426426426426426\n",
      "Average error probability for NuSVC with polynomial and a nu of 0.5: 0.15276190733462092\n",
      "Nu: 0.6\n",
      "    FOLD 1 error: 0.1499250374812594\n",
      "    FOLD 2 error: 0.16041979010494756\n",
      "    FOLD 3 error: 0.1634182908545727\n",
      "    FOLD 4 error: 0.16191904047976013\n",
      "    FOLD 5 error: 0.16516516516516522\n",
      "    FOLD 6 error: 0.16666666666666663\n",
      "    FOLD 7 error: 0.16216216216216217\n",
      "    FOLD 8 error: 0.13363363363363367\n",
      "    FOLD 9 error: 0.18768768768768773\n",
      "    FOLD 10 error: 0.14864864864864868\n",
      "Average error probability for NuSVC with polynomial and a nu of 0.6: 0.15996461228845038\n",
      "Nu: 0.7\n",
      "    FOLD 1 error: 0.1574212893553223\n",
      "    FOLD 2 error: 0.1649175412293853\n",
      "    FOLD 3 error: 0.16041979010494756\n",
      "    FOLD 4 error: 0.1709145427286357\n",
      "    FOLD 5 error: 0.17417417417417413\n",
      "    FOLD 6 error: 0.1711711711711712\n",
      "    FOLD 7 error: 0.17417417417417413\n",
      "    FOLD 8 error: 0.13813813813813813\n",
      "    FOLD 9 error: 0.19669669669669665\n",
      "    FOLD 10 error: 0.1576576576576577\n",
      "Average error probability for NuSVC with polynomial and a nu of 0.7: 0.16656851754303026\n",
      "Nu: 0.8\n",
      "    FOLD 1 error: 0.15892053973013498\n",
      "    FOLD 2 error: 0.1709145427286357\n",
      "    FOLD 3 error: 0.1724137931034483\n",
      "    FOLD 4 error: 0.17541229385307344\n",
      "    FOLD 5 error: 0.1636636636636637\n",
      "    FOLD 6 error: 0.18018018018018023\n",
      "    FOLD 7 error: 0.18768768768768773\n",
      "    FOLD 8 error: 0.15165165165165162\n",
      "    FOLD 9 error: 0.20570570570570568\n",
      "    FOLD 10 error: 0.18468468468468469\n",
      "Average error probability for NuSVC with polynomial and a nu of 0.8: 0.17512347429888653\n",
      "Nu: 0.9\n",
      "    FOLD 1 error: 0.2353823088455772\n",
      "    FOLD 2 error: 0.21289355322338832\n",
      "    FOLD 3 error: 0.21289355322338832\n",
      "    FOLD 4 error: 0.2143928035982009\n",
      "    FOLD 5 error: 0.3003003003003003\n",
      "    FOLD 6 error: 0.3078078078078078\n",
      "    FOLD 7 error: 0.28978978978978975\n",
      "    FOLD 8 error: 0.3078078078078078\n",
      "    FOLD 9 error: 0.3138138138138138\n",
      "    FOLD 10 error: 0.3408408408408409\n",
      "Average error probability for NuSVC with polynomial and a nu of 0.9: 0.27359225792509145\n",
      "Nu: 1\n"
     ]
    },
    {
     "ename": "ValueError",
     "evalue": "specified nu is infeasible",
     "output_type": "error",
     "traceback": [
      "\u001b[0;31m---------------------------------------------------------------------------\u001b[0m",
      "\u001b[0;31mValueError\u001b[0m                                Traceback (most recent call last)",
      "\u001b[0;32m<ipython-input-42-ce654775673d>\u001b[0m in \u001b[0;36m<module>\u001b[0;34m\u001b[0m\n\u001b[1;32m     17\u001b[0m         \u001b[0my_train_cv\u001b[0m\u001b[0;34m,\u001b[0m \u001b[0my_validate\u001b[0m \u001b[0;34m=\u001b[0m \u001b[0my_train\u001b[0m\u001b[0;34m[\u001b[0m\u001b[0mtrain_index\u001b[0m\u001b[0;34m]\u001b[0m\u001b[0;34m,\u001b[0m \u001b[0my_train\u001b[0m\u001b[0;34m[\u001b[0m\u001b[0mtest_index\u001b[0m\u001b[0;34m]\u001b[0m\u001b[0;34m\u001b[0m\u001b[0;34m\u001b[0m\u001b[0m\n\u001b[1;32m     18\u001b[0m         \u001b[0mnusvc\u001b[0m \u001b[0;34m=\u001b[0m \u001b[0mNuSVC\u001b[0m\u001b[0;34m(\u001b[0m\u001b[0mkernel\u001b[0m \u001b[0;34m=\u001b[0m \u001b[0;34m\"poly\"\u001b[0m\u001b[0;34m,\u001b[0m \u001b[0mdegree\u001b[0m \u001b[0;34m=\u001b[0m \u001b[0;36m3\u001b[0m\u001b[0;34m,\u001b[0m  \u001b[0mgamma\u001b[0m \u001b[0;34m=\u001b[0m \u001b[0;34m\"auto\"\u001b[0m\u001b[0;34m,\u001b[0m \u001b[0mnu\u001b[0m \u001b[0;34m=\u001b[0m \u001b[0mnu\u001b[0m\u001b[0;34m,\u001b[0m \u001b[0mmax_iter\u001b[0m \u001b[0;34m=\u001b[0m \u001b[0;36m1000000\u001b[0m\u001b[0;34m)\u001b[0m\u001b[0;34m\u001b[0m\u001b[0;34m\u001b[0m\u001b[0m\n\u001b[0;32m---> 19\u001b[0;31m         \u001b[0mnusvc\u001b[0m\u001b[0;34m.\u001b[0m\u001b[0mfit\u001b[0m\u001b[0;34m(\u001b[0m\u001b[0mX_train_cv\u001b[0m\u001b[0;34m,\u001b[0m\u001b[0my_train_cv\u001b[0m\u001b[0;34m)\u001b[0m\u001b[0;34m\u001b[0m\u001b[0;34m\u001b[0m\u001b[0m\n\u001b[0m\u001b[1;32m     20\u001b[0m         \u001b[0mfold_score\u001b[0m \u001b[0;34m=\u001b[0m \u001b[0mnusvc\u001b[0m\u001b[0;34m.\u001b[0m\u001b[0mscore\u001b[0m\u001b[0;34m(\u001b[0m\u001b[0mX_validate\u001b[0m\u001b[0;34m,\u001b[0m \u001b[0my_validate\u001b[0m\u001b[0;34m)\u001b[0m\u001b[0;34m\u001b[0m\u001b[0;34m\u001b[0m\u001b[0m\n\u001b[1;32m     21\u001b[0m         \u001b[0mscore\u001b[0m \u001b[0;34m+=\u001b[0m \u001b[0mfold_score\u001b[0m\u001b[0;34m\u001b[0m\u001b[0;34m\u001b[0m\u001b[0m\n",
      "\u001b[0;32m~/anaconda3/lib/python3.7/site-packages/sklearn/svm/base.py\u001b[0m in \u001b[0;36mfit\u001b[0;34m(self, X, y, sample_weight)\u001b[0m\n\u001b[1;32m    210\u001b[0m \u001b[0;34m\u001b[0m\u001b[0m\n\u001b[1;32m    211\u001b[0m         \u001b[0mseed\u001b[0m \u001b[0;34m=\u001b[0m \u001b[0mrnd\u001b[0m\u001b[0;34m.\u001b[0m\u001b[0mrandint\u001b[0m\u001b[0;34m(\u001b[0m\u001b[0mnp\u001b[0m\u001b[0;34m.\u001b[0m\u001b[0miinfo\u001b[0m\u001b[0;34m(\u001b[0m\u001b[0;34m'i'\u001b[0m\u001b[0;34m)\u001b[0m\u001b[0;34m.\u001b[0m\u001b[0mmax\u001b[0m\u001b[0;34m)\u001b[0m\u001b[0;34m\u001b[0m\u001b[0;34m\u001b[0m\u001b[0m\n\u001b[0;32m--> 212\u001b[0;31m         \u001b[0mfit\u001b[0m\u001b[0;34m(\u001b[0m\u001b[0mX\u001b[0m\u001b[0;34m,\u001b[0m \u001b[0my\u001b[0m\u001b[0;34m,\u001b[0m \u001b[0msample_weight\u001b[0m\u001b[0;34m,\u001b[0m \u001b[0msolver_type\u001b[0m\u001b[0;34m,\u001b[0m \u001b[0mkernel\u001b[0m\u001b[0;34m,\u001b[0m \u001b[0mrandom_seed\u001b[0m\u001b[0;34m=\u001b[0m\u001b[0mseed\u001b[0m\u001b[0;34m)\u001b[0m\u001b[0;34m\u001b[0m\u001b[0;34m\u001b[0m\u001b[0m\n\u001b[0m\u001b[1;32m    213\u001b[0m         \u001b[0;31m# see comment on the other call to np.iinfo in this file\u001b[0m\u001b[0;34m\u001b[0m\u001b[0;34m\u001b[0m\u001b[0;34m\u001b[0m\u001b[0m\n\u001b[1;32m    214\u001b[0m \u001b[0;34m\u001b[0m\u001b[0m\n",
      "\u001b[0;32m~/anaconda3/lib/python3.7/site-packages/sklearn/svm/base.py\u001b[0m in \u001b[0;36m_dense_fit\u001b[0;34m(self, X, y, sample_weight, solver_type, kernel, random_seed)\u001b[0m\n\u001b[1;32m    269\u001b[0m                 \u001b[0mcache_size\u001b[0m\u001b[0;34m=\u001b[0m\u001b[0mself\u001b[0m\u001b[0;34m.\u001b[0m\u001b[0mcache_size\u001b[0m\u001b[0;34m,\u001b[0m \u001b[0mcoef0\u001b[0m\u001b[0;34m=\u001b[0m\u001b[0mself\u001b[0m\u001b[0;34m.\u001b[0m\u001b[0mcoef0\u001b[0m\u001b[0;34m,\u001b[0m\u001b[0;34m\u001b[0m\u001b[0;34m\u001b[0m\u001b[0m\n\u001b[1;32m    270\u001b[0m                 \u001b[0mgamma\u001b[0m\u001b[0;34m=\u001b[0m\u001b[0mself\u001b[0m\u001b[0;34m.\u001b[0m\u001b[0m_gamma\u001b[0m\u001b[0;34m,\u001b[0m \u001b[0mepsilon\u001b[0m\u001b[0;34m=\u001b[0m\u001b[0mself\u001b[0m\u001b[0;34m.\u001b[0m\u001b[0mepsilon\u001b[0m\u001b[0;34m,\u001b[0m\u001b[0;34m\u001b[0m\u001b[0;34m\u001b[0m\u001b[0m\n\u001b[0;32m--> 271\u001b[0;31m                 max_iter=self.max_iter, random_seed=random_seed)\n\u001b[0m\u001b[1;32m    272\u001b[0m \u001b[0;34m\u001b[0m\u001b[0m\n\u001b[1;32m    273\u001b[0m         \u001b[0mself\u001b[0m\u001b[0;34m.\u001b[0m\u001b[0m_warn_from_fit_status\u001b[0m\u001b[0;34m(\u001b[0m\u001b[0;34m)\u001b[0m\u001b[0;34m\u001b[0m\u001b[0;34m\u001b[0m\u001b[0m\n",
      "\u001b[0;32msklearn/svm/libsvm.pyx\u001b[0m in \u001b[0;36msklearn.svm.libsvm.fit\u001b[0;34m()\u001b[0m\n",
      "\u001b[0;31mValueError\u001b[0m: specified nu is infeasible"
     ]
    }
   ],
   "source": [
    "percentage_validation = 0.1\n",
    "kf = KFold(n_splits=math.floor(1/percentage_validation))\n",
    "\n",
    "nus = [0.1, 0.2, 0.3, 0.4, 0.5, 0.6, 0.7, 0.8, 0.9, 1]\n",
    "scores = []\n",
    "best_score = 1\n",
    "best_nu = -1\n",
    "\n",
    "for nu in nus:\n",
    "\n",
    "    i = 0\n",
    "    score = 0\n",
    "    print(\"Nu: %s\" %nu)\n",
    "    #Validación cruzada del SVM\n",
    "    for train_index, test_index in kf.split(X_train):\n",
    "        X_train_cv, X_validate = X_train[train_index], X_train[test_index]\n",
    "        y_train_cv, y_validate = y_train[train_index], y_train[test_index] \n",
    "        nusvc = NuSVC(kernel = \"poly\", degree = 3,  gamma = \"auto\", nu = nu, max_iter = 1000000)\n",
    "        nusvc.fit(X_train_cv,y_train_cv)\n",
    "        fold_score = nusvc.score(X_validate, y_validate)\n",
    "        score += fold_score\n",
    "        i+=1\n",
    "        print(\"    FOLD %s error: %s\" % (i, 1 - fold_score))\n",
    "    \n",
    "    score = 1- (score/i)\n",
    "    scores.append(score)\n",
    "    \n",
    "    if score < best_score:\n",
    "        best_score = score\n",
    "        best_nu = nu\n",
    "    \n",
    "    print(\"Average error probability for NuSVC with polynomial and a nu of %s: %s\" % (nu, score))\n",
    "\n",
    "print(\"Lowest error probability: %s for model with polynomial and a nu of %s\" % (best_nu, best_degree))"
   ]
  },
  {
   "cell_type": "markdown",
   "metadata": {},
   "source": [
    "//TODO, confianza del modelo final"
   ]
  }
 ],
 "metadata": {
  "kernelspec": {
   "display_name": "Python 3",
   "language": "python",
   "name": "python3"
  },
  "language_info": {
   "codemirror_mode": {
    "name": "ipython",
    "version": 3
   },
   "file_extension": ".py",
   "mimetype": "text/x-python",
   "name": "python",
   "nbconvert_exporter": "python",
   "pygments_lexer": "ipython3",
   "version": "3.7.3"
  }
 },
 "nbformat": 4,
 "nbformat_minor": 2
}
