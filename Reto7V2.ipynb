{
 "cells": [
  {
   "cell_type": "markdown",
   "metadata": {},
   "source": [
    "# IELE 4014 Reto 7\n",
    "**Felipe Velásquez Montoya - 201632422**"
   ]
  },
  {
   "cell_type": "code",
   "execution_count": 1,
   "metadata": {},
   "outputs": [],
   "source": [
    "import numpy as np\n",
    "from sklearn.model_selection import train_test_split\n",
    "from sklearn.model_selection import KFold\n",
    "from sklearn.svm import NuSVC\n",
    "import math\n",
    "import matplotlib.pyplot as plt"
   ]
  },
  {
   "cell_type": "markdown",
   "metadata": {},
   "source": [
    "A continuación, se realiza la carga de los datos desde el archivo *msd_genre_dataset_segpreproc_knime.csv*. Previamente, los datos fueron preprocesados con las herramientas Knime y Excel. Con estas dos herramientas, se removieron las columnas correspondientes al nombre de la canción, el autor y el identificador único de la misma. Adicionalmente, se eliminaron todas las canciones que no pertenecían ni a la categoría \"Sould and Reggae\" ni \"Jazz and blues\". Finalmente, a estas dos categorías se les asignaron los valores 0 y 1 respectivamente."
   ]
  },
  {
   "cell_type": "code",
   "execution_count": 2,
   "metadata": {},
   "outputs": [
    {
     "name": "stdout",
     "output_type": "stream",
     "text": [
      "Filas de la matriz: 8330\n",
      "Columnas de la matriz: 31\n",
      "X shape(8330, 30)\n",
      "y shape(8330,)\n",
      "[[-10.114       89.97         1.         ... 243.95479133 165.37166341\n",
      "  493.10135401]\n",
      " [ -7.92       106.447        3.         ... 281.0314301  379.98186407\n",
      "  403.56379319]\n",
      " [-15.886      155.678        1.         ... 319.20949176 238.64434087\n",
      "  443.01748739]\n",
      " ...\n",
      " [-11.203      196.379        4.         ... 273.52429227 153.46845414\n",
      "  212.22035564]\n",
      " [ -8.052       91.836        4.         ... 617.44145238 669.82192135\n",
      "  347.39088127]\n",
      " [ -9.631      131.941        4.         ... 517.89491395 380.32702401\n",
      "  363.65400157]]\n",
      "[0 0 0 ... 1 0 0]\n"
     ]
    }
   ],
   "source": [
    "data_matrix = np.loadtxt(open(\"./msd_genre_dataset/fixed_ds.csv\", \"r\"), delimiter=\",\", skiprows=0)\n",
    "\n",
    "\n",
    "print(\"Filas de la matriz: \" + str(len(data_matrix)))\n",
    "print(\"Columnas de la matriz: \" + str(len(data_matrix[0])))\n",
    "\n",
    "\n",
    "#Los datos del set de datos están agrupados por género. Es decir, primero están todas las filas que corresponden\n",
    "#a 1 y después todas las que corresponden a -1. Se hace un shuffle para que, más tarde,\n",
    "#no se creen unos modelos que predigan únicamente una clase.\n",
    "np.random.shuffle(data_matrix)\n",
    "\n",
    "\n",
    "y = data_matrix[:,len(data_matrix[0])-1]\n",
    "X = np.delete(data_matrix, len(data_matrix[0])-1,1)\n",
    "\n",
    "y = y.astype(int)\n",
    "\n",
    "\n",
    "print(\"X shape\" + str(X.shape))\n",
    "print(\"y shape\" + str(y.shape))\n",
    "print(X)\n",
    "print(y)"
   ]
  },
  {
   "cell_type": "markdown",
   "metadata": {},
   "source": [
    "Se decidió dedicar el 20% de los datos al conjunto de prueba y el 80% al conjunto de entrenamiento, en este segundo conjunto, se decidió implementar una técnica de validación cruzada para la selección de los modelos. Para el conjunto de validación a utilizarse en esta heurística, decidió usarse el 10% de los datos de entrenamiento. La elección de los conjuntos se hace al azar utilizando el método train_test_split de sklearn. Aunque no es posible garantizar que los conjuntos tengan la misma distribución de clases, dada la naturaleza aleatoria del método train_test_split, se espera que estas sean semejantes."
   ]
  },
  {
   "cell_type": "code",
   "execution_count": 3,
   "metadata": {},
   "outputs": [
    {
     "name": "stdout",
     "output_type": "stream",
     "text": [
      "Training set size: 6664\n",
      "Test set size: 1666\n"
     ]
    }
   ],
   "source": [
    "percentage_test = 0.2\n",
    "\n",
    "X_train, X_test, y_train, y_test = train_test_split(X, y, test_size = percentage_test) \n",
    "\n",
    "print(\"Training set size: %s\" % len(X_train))\n",
    "print(\"Test set size: %s\" % len(X_test))"
   ]
  },
  {
   "cell_type": "markdown",
   "metadata": {},
   "source": [
    "Se procede, primero, a establacer cuál es el mejor tipo de estandarización, para esto, se comparan los resultados obtenidos cuando se utiliza StandardScaler, MinMaxScaler y RobustScaler. Como se mencionó previamente, se realizará validación cruzada con 10 grupos."
   ]
  },
  {
   "cell_type": "code",
   "execution_count": 4,
   "metadata": {},
   "outputs": [
    {
     "name": "stdout",
     "output_type": "stream",
     "text": [
      "Scaler: StandardScaler\n",
      "    FOLD 1 error: 0.16191904047976013\n",
      "    FOLD 2 error: 0.1649175412293853\n",
      "    FOLD 3 error: 0.15142428785607198\n",
      "    FOLD 4 error: 0.1424287856071964\n",
      "    FOLD 5 error: 0.16216216216216217\n",
      "    FOLD 6 error: 0.16216216216216217\n",
      "    FOLD 7 error: 0.13363363363363367\n",
      "    FOLD 8 error: 0.16666666666666663\n",
      "    FOLD 9 error: 0.14414414414414412\n",
      "    FOLD 10 error: 0.1561561561561562\n",
      "Average error probability for NuSVC with StandardScaler: 0.15456145800973398\n",
      "Scaler: MinMaxScaler\n",
      "    FOLD 1 error: 0.1784107946026986\n",
      "    FOLD 2 error: 0.17991004497751129\n",
      "    FOLD 3 error: 0.15592203898050971\n",
      "    FOLD 4 error: 0.15592203898050971\n",
      "    FOLD 5 error: 0.16216216216216217\n",
      "    FOLD 6 error: 0.17267267267267272\n",
      "    FOLD 7 error: 0.15465465465465467\n",
      "    FOLD 8 error: 0.18768768768768773\n",
      "    FOLD 9 error: 0.17267267267267272\n",
      "    FOLD 10 error: 0.1636636636636637\n",
      "Average error probability for NuSVC with MinMaxScaler: 0.16836784310547426\n",
      "Scaler: RobustScaler\n",
      "    FOLD 1 error: 0.1649175412293853\n",
      "    FOLD 2 error: 0.1574212893553223\n",
      "    FOLD 3 error: 0.15442278860569714\n",
      "    FOLD 4 error: 0.14092953523238383\n",
      "    FOLD 5 error: 0.16216216216216217\n",
      "    FOLD 6 error: 0.16216216216216217\n",
      "    FOLD 7 error: 0.1366366366366366\n",
      "    FOLD 8 error: 0.16966966966966968\n",
      "    FOLD 9 error: 0.15165165165165162\n",
      "    FOLD 10 error: 0.1576576576576577\n",
      "Average error probability for NuSVC with RobustScaler: 0.15576310943627303\n",
      "Lowest error probability: 0.15456145800973398 for model with StandardScaler\n"
     ]
    }
   ],
   "source": [
    "from sklearn.preprocessing import StandardScaler\n",
    "from sklearn.preprocessing import MinMaxScaler\n",
    "from sklearn.preprocessing import RobustScaler\n",
    "\n",
    "scaled_X_train = []\n",
    "scalers = [\"StandardScaler\", \"MinMaxScaler\", \"RobustScaler\"]\n",
    "\n",
    "#Primero StandardScaler\n",
    "scaler = StandardScaler().fit(X)\n",
    "scaled_X_train.append(scaler.transform(X_train))\n",
    "\n",
    "#Ahora, MinMaxScaler\n",
    "scaler = MinMaxScaler().fit(X)\n",
    "scaled_X_train.append(scaler.transform(X_train))\n",
    "\n",
    "#Finalmente, RobustScaler\n",
    "scaler = RobustScaler().fit(X)\n",
    "scaled_X_train.append(scaler.transform(X_train))\n",
    "\n",
    "\n",
    "percentage_validation = 0.1\n",
    "kf = KFold(n_splits=math.floor(1/percentage_validation))\n",
    "\n",
    "scores = []\n",
    "best_score = 1\n",
    "best_scaler = \"\"\n",
    "\n",
    "for j in range(0, len(scalers)):\n",
    "    \n",
    "    i = 0\n",
    "    score = 0\n",
    "    print(\"Scaler: %s\" % scalers[j])\n",
    "    \n",
    "    #Validación cruzada del SVM\n",
    "    for train_index, test_index in kf.split(scaled_X_train[j]):\n",
    "        X_train_cv, X_validate = scaled_X_train[j][train_index], scaled_X_train[j][test_index]\n",
    "        y_train_cv, y_validate = y_train[train_index], y_train[test_index]\n",
    "        nusvc = NuSVC(kernel = \"rbf\", gamma = \"scale\")    \n",
    "        nusvc.fit(X_train_cv,y_train_cv)\n",
    "    \n",
    "        fold_score = nusvc.score(X_validate, y_validate)\n",
    "        score += fold_score\n",
    "        i+=1\n",
    "        print(\"    FOLD %s error: %s\" % (i, 1 - fold_score))\n",
    "    \n",
    "    score = 1- (score/i)\n",
    "    scores.append(score)\n",
    "    \n",
    "    if score < best_score:\n",
    "        best_score = score\n",
    "        best_scaler = scalers[j]\n",
    "    \n",
    "    print(\"Average error probability for NuSVC with %s: %s\" % (scalers[j], score))\n",
    "\n",
    "print(\"Lowest error probability: %s for model with %s\" % (best_score, best_scaler))"
   ]
  },
  {
   "cell_type": "markdown",
   "metadata": {},
   "source": [
    "Como puede observarse, el mejor puntaje es obtenido con la utilización del StandardScaler. Se procese a escalar el conjunto de datos de entrenamiento utilizando esta técnica."
   ]
  },
  {
   "cell_type": "code",
   "execution_count": 5,
   "metadata": {},
   "outputs": [],
   "source": [
    "scaler = StandardScaler().fit(X)\n",
    "X_train = scaler.transform(X_train)"
   ]
  },
  {
   "cell_type": "markdown",
   "metadata": {},
   "source": [
    "A continuación, se buscará el mejor valor para la constante Nu."
   ]
  },
  {
   "cell_type": "code",
   "execution_count": 6,
   "metadata": {},
   "outputs": [
    {
     "name": "stdout",
     "output_type": "stream",
     "text": [
      "Nu: 0.1\n",
      "    FOLD 1 error: 0.15442278860569714\n",
      "    FOLD 2 error: 0.15292353823088456\n",
      "    FOLD 3 error: 0.14392803598200898\n",
      "    FOLD 4 error: 0.1274362818590704\n",
      "    FOLD 5 error: 0.1561561561561562\n",
      "    FOLD 6 error: 0.1561561561561562\n",
      "    FOLD 7 error: 0.1351351351351351\n",
      "    FOLD 8 error: 0.1576576576576577\n",
      "    FOLD 9 error: 0.14864864864864868\n",
      "    FOLD 10 error: 0.14714714714714716\n",
      "Average error probability for NuSVC with rbf and a nu of 0.1: 0.14796115455785608\n",
      "Nu: 0.2\n",
      "    FOLD 1 error: 0.14092953523238383\n",
      "    FOLD 2 error: 0.1214392803598201\n",
      "    FOLD 3 error: 0.12443778110944526\n",
      "    FOLD 4 error: 0.11544227886056968\n",
      "    FOLD 5 error: 0.13813813813813813\n",
      "    FOLD 6 error: 0.12462462462462465\n",
      "    FOLD 7 error: 0.12012012012012008\n",
      "    FOLD 8 error: 0.14114114114114118\n",
      "    FOLD 9 error: 0.13813813813813813\n",
      "    FOLD 10 error: 0.14114114114114118\n",
      "Average error probability for NuSVC with rbf and a nu of 0.2: 0.13055521788655222\n",
      "Nu: 0.3\n",
      "    FOLD 1 error: 0.13793103448275867\n",
      "    FOLD 2 error: 0.1274362818590704\n",
      "    FOLD 3 error: 0.11694152923538226\n",
      "    FOLD 4 error: 0.12293853073463268\n",
      "    FOLD 5 error: 0.13963963963963966\n",
      "    FOLD 6 error: 0.12012012012012008\n",
      "    FOLD 7 error: 0.11111111111111116\n",
      "    FOLD 8 error: 0.13213213213213215\n",
      "    FOLD 9 error: 0.1426426426426426\n",
      "    FOLD 10 error: 0.11861861861861867\n",
      "Average error probability for NuSVC with rbf and a nu of 0.3: 0.12695116405761087\n",
      "Nu: 0.4\n",
      "    FOLD 1 error: 0.15442278860569714\n",
      "    FOLD 2 error: 0.1424287856071964\n",
      "    FOLD 3 error: 0.14392803598200898\n",
      "    FOLD 4 error: 0.12293853073463268\n",
      "    FOLD 5 error: 0.14114114114114118\n",
      "    FOLD 6 error: 0.14114114114114118\n",
      "    FOLD 7 error: 0.12312312312312312\n",
      "    FOLD 8 error: 0.14714714714714716\n",
      "    FOLD 9 error: 0.14714714714714716\n",
      "    FOLD 10 error: 0.13363363363363367\n",
      "Average error probability for NuSVC with rbf and a nu of 0.4: 0.1397051474262868\n",
      "Nu: 0.5\n",
      "    FOLD 1 error: 0.16191904047976013\n",
      "    FOLD 2 error: 0.1649175412293853\n",
      "    FOLD 3 error: 0.15142428785607198\n",
      "    FOLD 4 error: 0.1424287856071964\n",
      "    FOLD 5 error: 0.16216216216216217\n",
      "    FOLD 6 error: 0.16216216216216217\n",
      "    FOLD 7 error: 0.13363363363363367\n",
      "    FOLD 8 error: 0.16666666666666663\n",
      "    FOLD 9 error: 0.14414414414414412\n",
      "    FOLD 10 error: 0.1561561561561562\n",
      "Average error probability for NuSVC with rbf and a nu of 0.5: 0.15456145800973398\n",
      "Nu: 0.6\n",
      "    FOLD 1 error: 0.17541229385307344\n",
      "    FOLD 2 error: 0.1784107946026986\n",
      "    FOLD 3 error: 0.16041979010494756\n",
      "    FOLD 4 error: 0.14692653673163414\n",
      "    FOLD 5 error: 0.16516516516516522\n",
      "    FOLD 6 error: 0.17567567567567566\n",
      "    FOLD 7 error: 0.14564564564564564\n",
      "    FOLD 8 error: 0.18918918918918914\n",
      "    FOLD 9 error: 0.16666666666666663\n",
      "    FOLD 10 error: 0.17417417417417413\n",
      "Average error probability for NuSVC with rbf and a nu of 0.6: 0.167768593180887\n",
      "Nu: 0.7\n",
      "    FOLD 1 error: 0.1859070464767616\n",
      "    FOLD 2 error: 0.18440779610194902\n",
      "    FOLD 3 error: 0.1724137931034483\n",
      "    FOLD 4 error: 0.16641679160419787\n",
      "    FOLD 5 error: 0.16666666666666663\n",
      "    FOLD 6 error: 0.18318318318318316\n",
      "    FOLD 7 error: 0.16066066066066065\n",
      "    FOLD 8 error: 0.1921921921921922\n",
      "    FOLD 9 error: 0.1921921921921922\n",
      "    FOLD 10 error: 0.18468468468468469\n",
      "Average error probability for NuSVC with rbf and a nu of 0.7: 0.17887250068659366\n",
      "Nu: 0.8\n",
      "    FOLD 1 error: 0.2008995502248876\n",
      "    FOLD 2 error: 0.19040479760119944\n",
      "    FOLD 3 error: 0.17991004497751129\n",
      "    FOLD 4 error: 0.17391304347826086\n",
      "    FOLD 5 error: 0.1861861861861862\n",
      "    FOLD 6 error: 0.20420420420420415\n",
      "    FOLD 7 error: 0.16666666666666663\n",
      "    FOLD 8 error: 0.20420420420420415\n",
      "    FOLD 9 error: 0.20120120120120122\n",
      "    FOLD 10 error: 0.18768768768768773\n",
      "Average error probability for NuSVC with rbf and a nu of 0.8: 0.18952775864320104\n",
      "Nu: 0.9\n",
      "    FOLD 1 error: 0.22338830584707647\n",
      "    FOLD 2 error: 0.19640179910044975\n",
      "    FOLD 3 error: 0.19790104947526233\n",
      "    FOLD 4 error: 0.18740629685157417\n",
      "    FOLD 5 error: 0.2072072072072072\n",
      "    FOLD 6 error: 0.22672672672672678\n",
      "    FOLD 7 error: 0.1786786786786787\n",
      "    FOLD 8 error: 0.22372372372372373\n",
      "    FOLD 9 error: 0.2207207207207207\n",
      "    FOLD 10 error: 0.19669669669669665\n",
      "Average error probability for NuSVC with rbf and a nu of 0.9: 0.2058851205028117\n",
      "Lowest error probability: 0.12695116405761087 for model with rbf and a nu of 0.3\n"
     ]
    }
   ],
   "source": [
    "percentage_validation = 0.1\n",
    "kf = KFold(n_splits=math.floor(1/percentage_validation))\n",
    "\n",
    "nus = [0.1, 0.2, 0.3, 0.4, 0.5, 0.6, 0.7, 0.8, 0.9]\n",
    "scores = []\n",
    "best_score = 1\n",
    "best_nu = -1\n",
    "\n",
    "for nu in nus:\n",
    "\n",
    "    i = 0\n",
    "    score = 0\n",
    "    print(\"Nu: %s\" %nu)\n",
    "    #Validación cruzada del SVM\n",
    "    for train_index, test_index in kf.split(X_train):\n",
    "        X_train_cv, X_validate = X_train[train_index], X_train[test_index]\n",
    "        y_train_cv, y_validate = y_train[train_index], y_train[test_index] \n",
    "        nusvc = NuSVC(kernel = \"rbf\", gamma = \"scale\", nu = nu)    \n",
    "        nusvc.fit(X_train_cv,y_train_cv)\n",
    "        fold_score = nusvc.score(X_validate, y_validate)\n",
    "        score += fold_score\n",
    "        i+=1\n",
    "        print(\"    FOLD %s error: %s\" % (i, 1 - fold_score))\n",
    "    \n",
    "    score = 1- (score/i)\n",
    "    scores.append(score)\n",
    "    \n",
    "    if score < best_score:\n",
    "        best_score = score\n",
    "        best_nu = nu\n",
    "    \n",
    "    print(\"Average error probability for NuSVC with rbf and a nu of %s: %s\" % (nu, score))\n",
    "\n",
    "print(\"Lowest error probability: %s for model with rbf and a nu of %s\" % (best_score, best_nu))"
   ]
  },
  {
   "cell_type": "markdown",
   "metadata": {},
   "source": [
    "Como puede observarse, el mejor valor se obtuvo con nu = 0.3, es decir que, a lo sumo, se permite clasificar incorrectamente el 30% de los X de entrenamiento y, por lo menos, el 30% de los X de entrenamiento son vectores de soporte."
   ]
  },
  {
   "cell_type": "code",
   "execution_count": 7,
   "metadata": {},
   "outputs": [
    {
     "data": {
      "image/png": "[encoded data removed]",
      "text/plain": [
       "<Figure size 432x288 with 1 Axes>"
      ]
     },
     "metadata": {
      "needs_background": "light"
     },
     "output_type": "display_data"
    }
   ],
   "source": [
    "plt.plot(nus, scores, 'o')\n",
    "#plt.xticks(range(1,max_degree+1))\n",
    "plt.xlabel('Valor de Nu')\n",
    "plt.ylabel('Probabilidad de error promedio ')\n",
    "plt.title('Probabilidad de error promedio en función del número del valor de la constante Nu')\n",
    "plt.show()"
   ]
  },
  {
   "cell_type": "markdown",
   "metadata": {},
   "source": [
    "NuSVC permite escoger también si se utiliza la eurística Shrinking, la cual intenta reducir el problema de optimización (véase https://www.csie.ntu.edu.tw/~cjlin/papers/libsvm.pdf. Se verá, ahora, si el desempeño del modelo se ve afectado al utilizar esta heurística. "
   ]
  },
  {
   "cell_type": "code",
   "execution_count": 8,
   "metadata": {},
   "outputs": [
    {
     "name": "stdout",
     "output_type": "stream",
     "text": [
      "Shrinking: False\n",
      "    FOLD 1 error: 0.13793103448275867\n",
      "    FOLD 2 error: 0.1274362818590704\n",
      "    FOLD 3 error: 0.11694152923538226\n",
      "    FOLD 4 error: 0.12293853073463268\n",
      "    FOLD 5 error: 0.13963963963963966\n",
      "    FOLD 6 error: 0.12012012012012008\n",
      "    FOLD 7 error: 0.11111111111111116\n",
      "    FOLD 8 error: 0.13213213213213215\n",
      "    FOLD 9 error: 0.1426426426426426\n",
      "    FOLD 10 error: 0.11861861861861867\n",
      "Average error probability for NuSVC with rbf and shrinking False: 0.12695116405761087\n",
      "Shrinking: True\n",
      "    FOLD 1 error: 0.13793103448275867\n",
      "    FOLD 2 error: 0.1274362818590704\n",
      "    FOLD 3 error: 0.11694152923538226\n",
      "    FOLD 4 error: 0.12293853073463268\n",
      "    FOLD 5 error: 0.13963963963963966\n",
      "    FOLD 6 error: 0.12012012012012008\n",
      "    FOLD 7 error: 0.11111111111111116\n",
      "    FOLD 8 error: 0.13213213213213215\n",
      "    FOLD 9 error: 0.1426426426426426\n",
      "    FOLD 10 error: 0.11861861861861867\n",
      "Average error probability for NuSVC with rbf and shrinking True: 0.12695116405761087\n",
      "Lowest error probability: 0.12695116405761087 for model with rbf and a shrinking False\n"
     ]
    }
   ],
   "source": [
    "percentage_validation = 0.1\n",
    "kf = KFold(n_splits=math.floor(1/percentage_validation))\n",
    "\n",
    "shrinkings = [False, True]\n",
    "best_score = 1\n",
    "best_shrinking = \"None\"\n",
    "\n",
    "for shrinking in shrinkings:\n",
    "\n",
    "    i = 0\n",
    "    score = 0\n",
    "    print(\"Shrinking: %s\" %shrinking)\n",
    "    #Validación cruzada del SVM\n",
    "    for train_index, test_index in kf.split(X_train):\n",
    "        X_train_cv, X_validate = X_train[train_index], X_train[test_index]\n",
    "        y_train_cv, y_validate = y_train[train_index], y_train[test_index] \n",
    "        nusvc = NuSVC(kernel = \"rbf\", gamma = \"scale\", nu = 0.3, shrinking = shrinking)    \n",
    "        nusvc.fit(X_train_cv,y_train_cv)\n",
    "        fold_score = nusvc.score(X_validate, y_validate)\n",
    "        score += fold_score\n",
    "        i+=1\n",
    "        print(\"    FOLD %s error: %s\" % (i, 1 - fold_score))\n",
    "    \n",
    "    score = 1- (score/i)\n",
    "    scores.append(score)\n",
    "    \n",
    "    if score < best_score:\n",
    "        best_score = score\n",
    "        best_shrinking = shrinking\n",
    "    \n",
    "    print(\"Average error probability for NuSVC with rbf and shrinking %s: %s\" % (shrinking, score))\n",
    "\n",
    "print(\"Lowest error probability: %s for model with rbf and a shrinking %s\" % (best_score, best_shrinking))"
   ]
  },
  {
   "cell_type": "markdown",
   "metadata": {},
   "source": [
    "Como puede observarse, la heurística no afecta el desempeño del modelo."
   ]
  },
  {
   "cell_type": "markdown",
   "metadata": {},
   "source": [
    "Analizar Shrinking"
   ]
  },
  {
   "cell_type": "markdown",
   "metadata": {},
   "source": [
    "A continuación se escogerá Gamma, SK Learn da dos opciones para gamma"
   ]
  },
  {
   "cell_type": "code",
   "execution_count": 9,
   "metadata": {},
   "outputs": [
    {
     "name": "stdout",
     "output_type": "stream",
     "text": [
      "Gamma: auto\n",
      "    FOLD 1 error: 0.13793103448275867\n",
      "    FOLD 2 error: 0.1274362818590704\n",
      "    FOLD 3 error: 0.11694152923538226\n",
      "    FOLD 4 error: 0.12293853073463268\n",
      "    FOLD 5 error: 0.13813813813813813\n",
      "    FOLD 6 error: 0.12012012012012008\n",
      "    FOLD 7 error: 0.11111111111111116\n",
      "    FOLD 8 error: 0.13213213213213215\n",
      "    FOLD 9 error: 0.1426426426426426\n",
      "    FOLD 10 error: 0.11861861861861867\n",
      "Average error probability for NuSVC with rbf and a gamma of auto: 0.1268010139074608\n",
      "Gamma: scale\n",
      "    FOLD 1 error: 0.13793103448275867\n",
      "    FOLD 2 error: 0.1274362818590704\n",
      "    FOLD 3 error: 0.11694152923538226\n",
      "    FOLD 4 error: 0.12293853073463268\n",
      "    FOLD 5 error: 0.13963963963963966\n",
      "    FOLD 6 error: 0.12012012012012008\n",
      "    FOLD 7 error: 0.11111111111111116\n",
      "    FOLD 8 error: 0.13213213213213215\n",
      "    FOLD 9 error: 0.1426426426426426\n",
      "    FOLD 10 error: 0.11861861861861867\n",
      "Average error probability for NuSVC with rbf and a gamma of scale: 0.12695116405761087\n",
      "Lowest error probability: 0.1268010139074608 for model with rbf and a gamma of auto\n"
     ]
    }
   ],
   "source": [
    "percentage_validation = 0.1\n",
    "kf = KFold(n_splits=math.floor(1/percentage_validation))\n",
    "\n",
    "gammas = [\"auto\", \"scale\"]\n",
    "best_score = 1\n",
    "best_gamma = \"None\"\n",
    "\n",
    "for gamma in gammas:\n",
    "\n",
    "    i = 0\n",
    "    score = 0\n",
    "    print(\"Gamma: %s\" %gamma)\n",
    "    #Validación cruzada del SVM\n",
    "    for train_index, test_index in kf.split(X_train):\n",
    "        X_train_cv, X_validate = X_train[train_index], X_train[test_index]\n",
    "        y_train_cv, y_validate = y_train[train_index], y_train[test_index] \n",
    "        nusvc = NuSVC(kernel = \"rbf\", gamma = gamma, nu = 0.3, shrinking = False)    \n",
    "        nusvc.fit(X_train_cv,y_train_cv)\n",
    "        fold_score = nusvc.score(X_validate, y_validate)\n",
    "        score += fold_score\n",
    "        i+=1\n",
    "        print(\"    FOLD %s error: %s\" % (i, 1 - fold_score))\n",
    "    \n",
    "    score = 1- (score/i)\n",
    "    scores.append(score)\n",
    "    \n",
    "    if score < best_score:\n",
    "        best_score = score\n",
    "        best_gamma = gamma\n",
    "    \n",
    "    print(\"Average error probability for NuSVC with rbf and a gamma of %s: %s\" % (gamma, score))\n",
    "\n",
    "print(\"Lowest error probability: %s for model with rbf and a gamma of %s\" % (best_score, best_gamma))"
   ]
  },
  {
   "cell_type": "markdown",
   "metadata": {},
   "source": [
    "Escoger class_weight"
   ]
  },
  {
   "cell_type": "code",
   "execution_count": 10,
   "metadata": {},
   "outputs": [
    {
     "name": "stdout",
     "output_type": "stream",
     "text": [
      "ones: 3449| zeroes: 3215\n"
     ]
    },
    {
     "data": {
      "image/png": "[encoded data removed]",
      "text/plain": [
       "<Figure size 432x288 with 1 Axes>"
      ]
     },
     "metadata": {},
     "output_type": "display_data"
    }
   ],
   "source": [
    "def count_occurrences(y):\n",
    "    ones=0\n",
    "    zeroes=0\n",
    "    \n",
    "    for i in range(0,len(y)):\n",
    "        if y[i] == 1:\n",
    "            ones+=1\n",
    "        else:\n",
    "            zeroes+=1\n",
    "    return ones, zeroes\n",
    "\n",
    "one, zero = count_occurrences(y_train)\n",
    "\n",
    "print(\"ones: %s| zeroes: %s\" % (one, zero))\n",
    "\n",
    "labels = \"Clase 1\", \"Clase 0\"\n",
    "colors = ['gold', 'yellowgreen']\n",
    "plt.pie([one, zero], labels= labels, colors=colors, autopct='%1.1f%%')\n",
    "plt.show()"
   ]
  },
  {
   "cell_type": "markdown",
   "metadata": {},
   "source": [
    "Se asgina, entonces, un class_weight proporcional a la frecuencia de las clases en nuestros datos de entrenamiento. Como puede observarse, esto disminuye la probabilidad de error observada."
   ]
  },
  {
   "cell_type": "code",
   "execution_count": 14,
   "metadata": {},
   "outputs": [
    {
     "name": "stdout",
     "output_type": "stream",
     "text": [
      "    FOLD 1 error: 0.13793103448275867\n",
      "    FOLD 2 error: 0.1274362818590704\n",
      "    FOLD 3 error: 0.11694152923538226\n",
      "    FOLD 4 error: 0.12293853073463268\n",
      "    FOLD 5 error: 0.13963963963963966\n",
      "    FOLD 6 error: 0.12012012012012008\n",
      "    FOLD 7 error: 0.11111111111111116\n",
      "    FOLD 8 error: 0.13213213213213215\n",
      "    FOLD 9 error: 0.1426426426426426\n",
      "    FOLD 10 error: 0.11861861861861867\n",
      "Error probability for class_weight {0: 0.48244297719087637, 1: 0.5175570228091236}: 0.12695116405761087\n"
     ]
    }
   ],
   "source": [
    "percentage_validation = 0.1\n",
    "kf = KFold(n_splits=math.floor(1/percentage_validation))\n",
    "\n",
    "class_weight = {0:(zero)/(one+zero), 1:(one)/(one+zero)}\n",
    "\n",
    "#Validación cruzada del SVM\n",
    "i=0\n",
    "score = 0\n",
    "for train_index, test_index in kf.split(X_train):\n",
    "    X_train_cv, X_validate = X_train[train_index], X_train[test_index]\n",
    "    y_train_cv, y_validate = y_train[train_index], y_train[test_index] \n",
    "    nusvc = NuSVC(kernel = \"rbf\", gamma = \"scale\", nu = 0.3, shrinking = False, class_weight = class_weight) \n",
    "    nusvc.fit(X_train_cv,y_train_cv)\n",
    "    fold_score = nusvc.score(X_validate, y_validate)\n",
    "    score += fold_score\n",
    "    i+=1\n",
    "    print(\"    FOLD %s error: %s\" % (i, 1 - fold_score))\n",
    "    \n",
    "score = 1 - (score/i)    \n",
    "print(\"Error probability for class_weight %s: %s\" % (class_weight, score))"
   ]
  },
  {
   "cell_type": "markdown",
   "metadata": {},
   "source": [
    "## Modelo Final\n",
    "De acuerdo con el proceso llevado a cabo, el modelo final será un clasificador NuSVC con kernel Gaussiano (rbf), un gamma de \"auto\", es decir 1/30, un Nu de 0.3, sin utilizar la heurística Shrinking y utilizando un class_weight propocional a las razones de las clases en el conjunto de entrenamiento. A continuación, se entrena el modelo final sobre todos los datos de entrenamiento y se prueba su desempeño.\n"
   ]
  },
  {
   "cell_type": "code",
   "execution_count": 15,
   "metadata": {},
   "outputs": [],
   "source": [
    "#Se estandarizan los datos de prueba\n",
    "scaler = StandardScaler().fit(X)\n",
    "X_test = scaler.transform(X_test)"
   ]
  },
  {
   "cell_type": "code",
   "execution_count": 17,
   "metadata": {},
   "outputs": [
    {
     "name": "stdout",
     "output_type": "stream",
     "text": [
      "Error probability for final model on train data 0.07187875150060019\n",
      "Error probability for final model on test data 0.1296518607442977\n"
     ]
    }
   ],
   "source": [
    "\n",
    "nusvc = NuSVC(kernel = \"rbf\", gamma = \"auto\", nu = 0.3, shrinking = False, class_weight = class_weight) \n",
    "nusvc.fit(X_train,y_train)\n",
    "\n",
    "final_score_train = nusvc.score(X_train, y_train)\n",
    "final_score_test = nusvc.score(X_test, y_test)\n",
    "\n",
    "print(\"Error probability for final model on train data %s\" % (1-final_score_train))\n",
    "print(\"Error probability for final model on test data %s\" % (1-final_score_test))"
   ]
  },
  {
   "cell_type": "markdown",
   "metadata": {},
   "source": [
    "//TODO, confianza del modelo final"
   ]
  }
 ],
 "metadata": {
  "kernelspec": {
   "display_name": "Python 3",
   "language": "python",
   "name": "python3"
  },
  "language_info": {
   "codemirror_mode": {
    "name": "ipython",
    "version": 3
   },
   "file_extension": ".py",
   "mimetype": "text/x-python",
   "name": "python",
   "nbconvert_exporter": "python",
   "pygments_lexer": "ipython3",
   "version": "3.7.3"
  }
 },
 "nbformat": 4,
 "nbformat_minor": 2
}
